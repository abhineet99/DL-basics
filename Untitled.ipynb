{
 "cells": [
  {
   "cell_type": "code",
   "execution_count": 1,
   "metadata": {},
   "outputs": [],
   "source": [
    "import pickle"
   ]
  },
  {
   "cell_type": "code",
   "execution_count": 2,
   "metadata": {},
   "outputs": [
    {
     "name": "stdout",
     "output_type": "stream",
     "text": [
      "'hitkul(sample_submission).csv'   train_image.pkl   Untitled.ipynb\r\n",
      " test_image.pkl\t\t\t  train_label.pkl\r\n"
     ]
    }
   ],
   "source": [
    "!ls"
   ]
  },
  {
   "cell_type": "code",
   "execution_count": 31,
   "metadata": {},
   "outputs": [],
   "source": [
    "file_objects=[]\n",
    "with (open(\"train_label.pkl\",\"rb\")) as openfile: #from stackoverflow and pickle docs\n",
    "    while True:\n",
    "        try:\n",
    "            file_objects.append(pickle.load(openfile))\n",
    "        except EOFError:\n",
    "            break\n",
    "    "
   ]
  },
  {
   "cell_type": "code",
   "execution_count": 32,
   "metadata": {},
   "outputs": [
    {
     "data": {
      "text/plain": [
       "1"
      ]
     },
     "execution_count": 32,
     "metadata": {},
     "output_type": "execute_result"
    }
   ],
   "source": [
    "len(file_objects)"
   ]
  },
  {
   "cell_type": "code",
   "execution_count": 33,
   "metadata": {},
   "outputs": [
    {
     "data": {
      "text/plain": [
       "8000"
      ]
     },
     "execution_count": 33,
     "metadata": {},
     "output_type": "execute_result"
    }
   ],
   "source": [
    "len(file_objects[0])"
   ]
  },
  {
   "cell_type": "code",
   "execution_count": 34,
   "metadata": {},
   "outputs": [
    {
     "data": {
      "text/plain": [
       "int"
      ]
     },
     "execution_count": 34,
     "metadata": {},
     "output_type": "execute_result"
    }
   ],
   "source": [
    "type(file_objects[0][1])\n",
    "    "
   ]
  },
  {
   "cell_type": "code",
   "execution_count": 37,
   "metadata": {},
   "outputs": [],
   "source": [
    "image_label_list=file_objects[0]"
   ]
  },
  {
   "cell_type": "code",
   "execution_count": 38,
   "metadata": {},
   "outputs": [],
   "source": [
    "file_objects=[]\n",
    "with (open(\"train_image.pkl\",\"rb\")) as openfile: #from stackoverflow and pickle docs\n",
    "    while True:\n",
    "        try:\n",
    "            file_objects.append(pickle.load(openfile))\n",
    "        except EOFError:\n",
    "            break"
   ]
  },
  {
   "cell_type": "code",
   "execution_count": 39,
   "metadata": {},
   "outputs": [
    {
     "data": {
      "text/plain": [
       "8000"
      ]
     },
     "execution_count": 39,
     "metadata": {},
     "output_type": "execute_result"
    }
   ],
   "source": [
    "len(file_objects[0])"
   ]
  },
  {
   "cell_type": "code",
   "execution_count": 54,
   "metadata": {},
   "outputs": [
    {
     "name": "stdout",
     "output_type": "stream",
     "text": [
      "[0, 0, 0, 0, 0, 0, 0, 1, 28, 13, 0, 0, 0, 0, 0, 0, 0, 0, 1, 13, 8, 0, 0, 0, 0, 0, 0, 0, 0, 0, 0, 0, 0, 0, 19, 37, 39, 33, 30, 24, 23, 26, 25, 22, 21, 22, 22, 29, 28, 18, 1, 0, 0, 0, 0, 0, 0, 0, 0, 0, 0, 0, 28, 37, 15, 22, 21, 27, 29, 32, 33, 28, 26, 25, 23, 21, 26, 30, 2, 0, 0, 0, 0, 0, 0, 0, 2, 0, 152, 204, 0, 0, 0, 0, 0, 0, 0, 0, 1, 1, 1, 1, 1, 1, 10, 0, 32, 175, 0, 0, 0, 0, 0, 0, 0, 32, 236, 242, 218, 14, 2, 25, 16, 16, 19, 11, 0, 0, 0, 0, 0, 0, 0, 3, 208, 254, 96, 0, 0, 0, 0, 0, 0, 115, 214, 230, 245, 230, 223, 232, 227, 228, 228, 227, 223, 223, 222, 223, 223, 254, 236, 215, 242, 244, 255, 0, 0, 0, 0, 0, 0, 8, 0, 93, 235, 248, 246, 245, 243, 243, 243, 243, 245, 244, 243, 242, 243, 241, 243, 247, 217, 106, 16, 0, 0, 0, 0, 0, 0, 37, 25, 0, 60, 157, 150, 178, 184, 185, 190, 193, 201, 203, 208, 210, 206, 206, 205, 209, 59, 0, 18, 25, 0, 0, 0, 0, 1, 68, 64, 67, 45, 7, 0, 0, 0, 0, 0, 0, 0, 0, 0, 0, 0, 0, 0, 0, 67, 61, 75, 50, 0, 0, 0, 0, 0, 21, 20, 15, 21, 48, 64, 59, 43, 42, 45, 43, 38, 36, 34, 32, 30, 30, 30, 36, 49, 21, 21, 20, 0, 0, 0, 0, 7, 68, 55, 51, 53, 38, 61, 66, 55, 50, 52, 54, 52, 55, 57, 59, 60, 62, 64, 63, 71, 57, 58, 62, 0, 0, 0, 0, 7, 51, 43, 44, 46, 30, 29, 29, 21, 13, 13, 14, 15, 15, 15, 16, 16, 15, 22, 14, 58, 48, 42, 49, 0, 0, 0, 0, 7, 35, 20, 18, 17, 53, 73, 75, 64, 60, 61, 64, 65, 64, 63, 63, 63, 67, 67, 66, 56, 16, 21, 33, 0, 0, 0, 0, 20, 74, 62, 69, 62, 23, 28, 23, 19, 16, 17, 16, 18, 18, 18, 19, 25, 22, 27, 38, 69, 64, 67, 73, 3, 0, 0, 0, 1, 27, 16, 15, 19, 51, 63, 55, 48, 49, 51, 49, 49, 47, 44, 44, 44, 40, 40, 30, 36, 17, 20, 24, 1, 0, 0, 0, 24, 67, 51, 53, 48, 45, 52, 44, 44, 43, 43, 43, 43, 44, 48, 52, 50, 53, 52, 53, 76, 47, 52, 64, 16, 0, 0, 0, 15, 46, 42, 48, 41, 33, 37, 26, 22, 22, 21, 21, 19, 18, 16, 14, 12, 14, 10, 14, 53, 49, 40, 48, 8, 0, 0, 0, 16, 38, 26, 24, 35, 73, 72, 70, 64, 64, 64, 64, 62, 67, 66, 64, 70, 69, 64, 66, 57, 21, 31, 42, 13, 0, 0, 0, 37, 77, 60, 69, 44, 14, 21, 19, 14, 13, 13, 15, 14, 15, 17, 19, 25, 24, 19, 23, 80, 67, 60, 77, 23, 0, 0, 0, 8, 24, 16, 4, 37, 70, 66, 58, 62, 62, 60, 60, 62, 58, 57, 57, 52, 52, 45, 43, 53, 15, 18, 26, 6, 0, 0, 0, 39, 72, 67, 70, 41, 29, 38, 32, 29, 25, 28, 31, 29, 34, 38, 40, 42, 48, 53, 57, 85, 60, 66, 78, 36, 0, 0, 0, 20, 40, 29, 40, 36, 46, 51, 37, 41, 40, 42, 41, 36, 40, 39, 35, 34, 30, 19, 13, 58, 28, 33, 38, 15, 0, 0, 0, 26, 54, 35, 37, 52, 70, 62, 64, 64, 63, 60, 61, 67, 65, 65, 64, 65, 75, 76, 70, 71, 41, 43, 52, 30, 0, 0, 0, 43, 74, 66, 70, 28, 4, 20, 22, 24, 20, 23, 25, 22, 20, 20, 23, 21, 14, 12, 22, 68, 62, 59, 69, 37, 0, 0, 0, 13, 24, 15, 18, 58, 88, 85, 84, 67, 58, 57, 60, 52, 51, 54, 62, 61, 79, 80, 56, 47, 18, 23, 30, 16, 0, 0, 0, 38, 73, 65, 59, 98, 46, 8, 32, 44, 53, 51, 45, 52, 60, 54, 47, 47, 74, 54, 52, 119, 56, 67, 70, 44, 0, 0, 0, 27, 50, 36, 29, 28, 0, 0, 0, 0, 0, 1, 1, 4, 4, 2, 2, 0, 0, 0, 0, 47, 40, 38, 41, 22, 0, 0, 0, 13, 28, 23, 30, 43, 0, 0, 1, 0, 0, 0, 0, 0, 0, 0, 0, 0, 0, 0, 0, 28, 21, 18, 18, 5, 0]\n"
     ]
    }
   ],
   "source": [
    "print(file_objects[0][987])"
   ]
  },
  {
   "cell_type": "code",
   "execution_count": 45,
   "metadata": {},
   "outputs": [],
   "source": [
    "\n",
    "pixels=file_objects[0][1]"
   ]
  },
  {
   "cell_type": "code",
   "execution_count": null,
   "metadata": {},
   "outputs": [],
   "source": [
    "image_array=[]"
   ]
  },
  {
   "cell_type": "code",
   "execution_count": 49,
   "metadata": {},
   "outputs": [],
   "source": [
    "from PIL import Image\n",
    "import numpy as np"
   ]
  },
  {
   "cell_type": "code",
   "execution_count": 50,
   "metadata": {},
   "outputs": [
    {
     "ename": "IndexError",
     "evalue": "tuple index out of range",
     "output_type": "error",
     "traceback": [
      "\u001b[0;31m---------------------------------------------------------------------------\u001b[0m",
      "\u001b[0;31mIndexError\u001b[0m                                Traceback (most recent call last)",
      "\u001b[0;32m<ipython-input-50-efc1fafa2852>\u001b[0m in \u001b[0;36m<module>\u001b[0;34m\u001b[0m\n\u001b[1;32m      4\u001b[0m \u001b[0;34m\u001b[0m\u001b[0m\n\u001b[1;32m      5\u001b[0m \u001b[0;31m# Use PIL to create an image from the new array of pixels\u001b[0m\u001b[0;34m\u001b[0m\u001b[0;34m\u001b[0m\u001b[0;34m\u001b[0m\u001b[0m\n\u001b[0;32m----> 6\u001b[0;31m \u001b[0mnew_image\u001b[0m \u001b[0;34m=\u001b[0m \u001b[0mImage\u001b[0m\u001b[0;34m.\u001b[0m\u001b[0mfromarray\u001b[0m\u001b[0;34m(\u001b[0m\u001b[0marray\u001b[0m\u001b[0;34m)\u001b[0m\u001b[0;34m\u001b[0m\u001b[0;34m\u001b[0m\u001b[0m\n\u001b[0m\u001b[1;32m      7\u001b[0m \u001b[0mnew_image\u001b[0m\u001b[0;34m.\u001b[0m\u001b[0msave\u001b[0m\u001b[0;34m(\u001b[0m\u001b[0;34m'new.png'\u001b[0m\u001b[0;34m)\u001b[0m\u001b[0;34m\u001b[0m\u001b[0;34m\u001b[0m\u001b[0m\n",
      "\u001b[0;32m~/.local/lib/python3.6/site-packages/PIL/Image.py\u001b[0m in \u001b[0;36mfromarray\u001b[0;34m(obj, mode)\u001b[0m\n\u001b[1;32m   2527\u001b[0m         \u001b[0;32mraise\u001b[0m \u001b[0mValueError\u001b[0m\u001b[0;34m(\u001b[0m\u001b[0;34m\"Too many dimensions: %d > %d.\"\u001b[0m \u001b[0;34m%\u001b[0m \u001b[0;34m(\u001b[0m\u001b[0mndim\u001b[0m\u001b[0;34m,\u001b[0m \u001b[0mndmax\u001b[0m\u001b[0;34m)\u001b[0m\u001b[0;34m)\u001b[0m\u001b[0;34m\u001b[0m\u001b[0;34m\u001b[0m\u001b[0m\n\u001b[1;32m   2528\u001b[0m \u001b[0;34m\u001b[0m\u001b[0m\n\u001b[0;32m-> 2529\u001b[0;31m     \u001b[0msize\u001b[0m \u001b[0;34m=\u001b[0m \u001b[0mshape\u001b[0m\u001b[0;34m[\u001b[0m\u001b[0;36m1\u001b[0m\u001b[0;34m]\u001b[0m\u001b[0;34m,\u001b[0m \u001b[0mshape\u001b[0m\u001b[0;34m[\u001b[0m\u001b[0;36m0\u001b[0m\u001b[0;34m]\u001b[0m\u001b[0;34m\u001b[0m\u001b[0;34m\u001b[0m\u001b[0m\n\u001b[0m\u001b[1;32m   2530\u001b[0m     \u001b[0;32mif\u001b[0m \u001b[0mstrides\u001b[0m \u001b[0;32mis\u001b[0m \u001b[0;32mnot\u001b[0m \u001b[0;32mNone\u001b[0m\u001b[0;34m:\u001b[0m\u001b[0;34m\u001b[0m\u001b[0;34m\u001b[0m\u001b[0m\n\u001b[1;32m   2531\u001b[0m         \u001b[0;32mif\u001b[0m \u001b[0mhasattr\u001b[0m\u001b[0;34m(\u001b[0m\u001b[0mobj\u001b[0m\u001b[0;34m,\u001b[0m \u001b[0;34m'tobytes'\u001b[0m\u001b[0;34m)\u001b[0m\u001b[0;34m:\u001b[0m\u001b[0;34m\u001b[0m\u001b[0;34m\u001b[0m\u001b[0m\n",
      "\u001b[0;31mIndexError\u001b[0m: tuple index out of range"
     ]
    }
   ],
   "source": [
    "\n",
    "# Convert the pixels into an array using numpy\n",
    "array = np.array(pixels, dtype=np.uint8)\n",
    "\n",
    "# Use PIL to create an image from the new array of pixels\n",
    "new_image = Image.fromarray(array)\n",
    "new_image.save('new.png')"
   ]
  },
  {
   "cell_type": "code",
   "execution_count": null,
   "metadata": {},
   "outputs": [],
   "source": []
  }
 ],
 "metadata": {
  "kernelspec": {
   "display_name": "Python 3",
   "language": "python",
   "name": "python3"
  },
  "language_info": {
   "codemirror_mode": {
    "name": "ipython",
    "version": 3
   },
   "file_extension": ".py",
   "mimetype": "text/x-python",
   "name": "python",
   "nbconvert_exporter": "python",
   "pygments_lexer": "ipython3",
   "version": "3.6.7"
  }
 },
 "nbformat": 4,
 "nbformat_minor": 2
}
