{
 "cells": [
  {
   "cell_type": "code",
   "execution_count": 1,
   "metadata": {},
   "outputs": [],
   "source": [
    "from PIL import Image\n",
    "import math\n",
    "import pandas as pd\n",
    "import matplotlib.pyplot as plt\n",
    "import numpy as np\n",
    "import pickle\n",
    "import seaborn as sns #helps in visualising data"
   ]
  },
  {
   "cell_type": "code",
   "execution_count": 2,
   "metadata": {},
   "outputs": [],
   "source": [
    "training_labels=\"dataset/train_label.pkl\"\n",
    "train_images=\"dataset/train_image.pkl\"\n",
    "test_images=\"dataset/test_image.pkl\""
   ]
  },
  {
   "cell_type": "markdown",
   "metadata": {},
   "source": [
    "LOADING AND VISUALISING DATA"
   ]
  },
  {
   "cell_type": "code",
   "execution_count": 3,
   "metadata": {},
   "outputs": [],
   "source": [
    "file_objects=[]\n",
    "with (open(train_images,\"rb\")) as openfile: #from stackoverflow and pickle docs\n",
    "    while True:\n",
    "        try:\n",
    "            file_objects.append(pickle.load(openfile))\n",
    "        except EOFError:\n",
    "            break\n",
    "    "
   ]
  },
  {
   "cell_type": "code",
   "execution_count": 4,
   "metadata": {},
   "outputs": [
    {
     "name": "stdout",
     "output_type": "stream",
     "text": [
      "1\n",
      "8000\n",
      "<class 'list'>\n",
      "784\n",
      "<class 'int'>\n"
     ]
    }
   ],
   "source": [
    "print(len(file_objects))\n",
    "print(len(file_objects[0]))\n",
    "print(type(file_objects[0][1]))\n",
    "print(len(file_objects[0][1]))\n",
    "print(type(file_objects[0][1][1]))  \n"
   ]
  },
  {
   "cell_type": "markdown",
   "metadata": {},
   "source": [
    "As seen, the data contains 8000 lists of 784 ints, that is 28*28, hence its a reasonable assumption that these are pixel values, however we will visualise to confirm the same. \n",
    "After checking the output of print (file_objects[0][1]), the values range from 0 to 255 hence the assumption is true.\n",
    "Now, we need to check if 8000 labels are present or not"
   ]
  },
  {
   "cell_type": "code",
   "execution_count": 5,
   "metadata": {},
   "outputs": [],
   "source": [
    "file_label_objects=[]\n",
    "with (open(training_labels,\"rb\")) as openfile: #from stackoverflow and pickle docs\n",
    "    while True:\n",
    "        try:\n",
    "            file_label_objects.append(pickle.load(openfile))\n",
    "        except EOFError:\n",
    "            break"
   ]
  },
  {
   "cell_type": "code",
   "execution_count": 6,
   "metadata": {},
   "outputs": [
    {
     "data": {
      "text/plain": [
       "8000"
      ]
     },
     "execution_count": 6,
     "metadata": {},
     "output_type": "execute_result"
    }
   ],
   "source": [
    "len(file_label_objects[0])"
   ]
  },
  {
   "cell_type": "markdown",
   "metadata": {},
   "source": [
    "So we have 8000 training labels"
   ]
  },
  {
   "cell_type": "code",
   "execution_count": 7,
   "metadata": {
    "scrolled": true
   },
   "outputs": [
    {
     "data": {
      "image/png": "[encoded data removed]",
      "text/plain": [
       "<Figure size 432x288 with 1 Axes>"
      ]
     },
     "metadata": {
      "needs_background": "light"
     },
     "output_type": "display_data"
    }
   ],
   "source": [
    "train_labels=file_label_objects[0]\n",
    "input_class_graph=sns.countplot(train_labels)"
   ]
  },
  {
   "cell_type": "markdown",
   "metadata": {},
   "source": [
    "so data is evenly distributed, and there are 4 classes, now i will visualise image , and we will do mapping of classes from 0,2,3,6 to 0,1,2,3. It will result in less size of one hot encoded vectors."
   ]
  },
  {
   "cell_type": "code",
   "execution_count": 8,
   "metadata": {},
   "outputs": [],
   "source": [
    "train_images=file_objects[0]\n",
    "for i in range(len(train_labels)):\n",
    "    if (train_labels[i] == 2):\n",
    "        train_labels[i]=1\n",
    "    elif (train_labels[i]  == 3):\n",
    "        train_labels[i]=2\n",
    "    elif (train_labels[i]  == 6):\n",
    "        train_labels[i]=3\n",
    "     \n",
    "      "
   ]
  },
  {
   "cell_type": "code",
   "execution_count": 9,
   "metadata": {},
   "outputs": [
    {
     "name": "stdout",
     "output_type": "stream",
     "text": [
      "3\n"
     ]
    }
   ],
   "source": [
    "print(train_labels[7000])"
   ]
  },
  {
   "cell_type": "code",
   "execution_count": 10,
   "metadata": {},
   "outputs": [],
   "source": [
    "#making a pandas dataframe, easier to handle stuff\n",
    "train_df=pd.DataFrame(train_images)"
   ]
  },
  {
   "cell_type": "code",
   "execution_count": 11,
   "metadata": {},
   "outputs": [],
   "source": [
    "train_df=train_df.values.reshape(-1,28,28,1)\n"
   ]
  },
  {
   "cell_type": "code",
   "execution_count": 12,
   "metadata": {
    "scrolled": true
   },
   "outputs": [
    {
     "data": {
      "text/plain": [
       "3"
      ]
     },
     "execution_count": 12,
     "metadata": {},
     "output_type": "execute_result"
    },
    {
     "data": {
      "image/png": "[encoded data removed]",
      "text/plain": [
       "<Figure size 432x288 with 1 Axes>"
      ]
     },
     "metadata": {
      "needs_background": "light"
     },
     "output_type": "display_data"
    }
   ],
   "source": [
    "g=plt.imshow(train_df[7007][:,:,0])\n",
    "train_labels[7007]\n",
    "\n",
    "\n",
    "\n",
    "\n",
    "\n",
    "# after various iterations, it appears as if these are different type of clothings, although i feel class 6 has some common attributes with other classes."
   ]
  },
  {
   "cell_type": "markdown",
   "metadata": {},
   "source": [
    "SO we have classes like tees, pullover, dresses, shirt. To me, it appears as if shirt class can be confused with others"
   ]
  },
  {
   "cell_type": "code",
   "execution_count": 72,
   "metadata": {},
   "outputs": [],
   "source": [
    "#to create a validation set, as the labels are in a sequential manner, the inbuilt function(keras) will not randomise and pick last few values, hence validation set wont be generalised, so I'll use sklearn for the same\n",
    "from sklearn.model_selection import train_test_split\n",
    "XTraining, XValidation, YTraining, YValidation = train_test_split(train_df,train_labels,stratify=train_labels,test_size=0.2)\n",
    "\n"
   ]
  },
  {
   "cell_type": "code",
   "execution_count": 73,
   "metadata": {},
   "outputs": [],
   "source": [
    "#now the time to create model, I'll be using Keras to create a CNN\n",
    "#for one hot encodingx importing 'to categorical'\n",
    "from keras.utils.np_utils import to_categorical \n",
    "from keras.models import Sequential\n",
    "from keras.layers import Dense, Dropout, Flatten, Conv2D, MaxPool2D, BatchNormalization\n",
    "from keras.optimizers import Adam\n",
    "from keras.preprocessing.image import ImageDataGenerator\n",
    "from keras.callbacks import LearningRateScheduler, ReduceLROnPlateau\n",
    "from sklearn.metrics import confusion_matrix\n",
    "\n",
    "#one hot encoding\n",
    "YTraining = to_categorical(YTraining)\n",
    "YValidation = to_categorical(YValidation)"
   ]
  },
  {
   "cell_type": "markdown",
   "metadata": {},
   "source": [
    "Now we create a CNN architecture\n",
    "Regarding the layers:\n",
    "Conv2d: basically the learnable filters with 3*3 kernel size in this case\n",
    "MaxPool2D: acts as a downsampling filters, chooses max value among neighboring pixels, more global features can be learnt\n",
    "Dropout: for regularisation(to reduce overfitting)\n",
    "Relu, Softmax are used as activations\n",
    "BatchNormalisation for quicker training\n",
    "Flatten to make use of fully connected layer after convolutional layers. Dense layer is the classifier layer"
   ]
  },
  {
   "cell_type": "code",
   "execution_count": 46,
   "metadata": {},
   "outputs": [],
   "source": [
    "model = Sequential()\n",
    "\n",
    "model.add(Conv2D(filters = 16, kernel_size = (3, 3), activation='relu',\n",
    "                 input_shape = (28, 28, 1)))\n",
    "model.add(BatchNormalization())\n",
    "model.add(Conv2D(filters = 16, kernel_size = (3, 3), activation='relu'))\n",
    "model.add(BatchNormalization())\n",
    "model.add(MaxPool2D(pool_size=(2,2)))\n",
    "model.add(Dropout(0.25))\n",
    "\n",
    "model.add(Conv2D(filters = 32, kernel_size = (3, 3), activation='relu'))\n",
    "model.add(BatchNormalization())\n",
    "model.add(Conv2D(filters = 32, kernel_size = (3, 3), activation='relu'))\n",
    "model.add(BatchNormalization())\n",
    "model.add(MaxPool2D(pool_size=(2,2)))\n",
    "model.add(Dropout(0.25))\n",
    "\n",
    "model.add(Flatten())\n",
    "model.add(Dense(512, activation='relu'))\n",
    "model.add(Dropout(0.25))\n",
    "model.add(Dense(1024, activation='relu'))\n",
    "model.add(Dropout(0.5))\n",
    "model.add(Dense(4, activation='softmax'))"
   ]
  },
  {
   "cell_type": "markdown",
   "metadata": {},
   "source": [
    "As the essence of image category remains same even if images are altered in terms of shifting,zooming,tilting in this case, I will apply these standard data augmentation techniques"
   ]
  },
  {
   "cell_type": "code",
   "execution_count": 47,
   "metadata": {},
   "outputs": [],
   "source": [
    "datagen = ImageDataGenerator(zoom_range = 0.1,\n",
    "                            height_shift_range = 0.1,\n",
    "                            width_shift_range = 0.1,\n",
    "                            rotation_range = 10,horizontal_flip=True,vertical_flip=True,\n",
    "    )"
   ]
  },
  {
   "cell_type": "code",
   "execution_count": 48,
   "metadata": {},
   "outputs": [],
   "source": [
    "model.compile(loss='categorical_crossentropy', optimizer = Adam(lr=1e-3), metrics=[\"accuracy\"]) # adam as optimiser, crossentropy log loss function\n"
   ]
  },
  {
   "cell_type": "code",
   "execution_count": 49,
   "metadata": {},
   "outputs": [],
   "source": [
    "#learning rate annealing, to slow down learning rate on plateau, so that the model can coverge to more precise point\n",
    "learning_rate_reduction = ReduceLROnPlateau(monitor='val_acc', \n",
    "                                            patience=3, \n",
    "                                            verbose=1, \n",
    "                                            factor=0.5, \n",
    "                                            min_lr=0.00001)"
   ]
  },
  {
   "cell_type": "code",
   "execution_count": 50,
   "metadata": {
    "scrolled": true
   },
   "outputs": [
    {
     "name": "stdout",
     "output_type": "stream",
     "text": [
      "Epoch 1/20\n",
      "600/600 [==============================] - 21s 35ms/step - loss: 0.9972 - acc: 0.5864 - val_loss: 0.6504 - val_acc: 0.7338\n",
      "Epoch 2/20\n",
      "600/600 [==============================] - 18s 29ms/step - loss: 0.7705 - acc: 0.6743 - val_loss: 0.5904 - val_acc: 0.7594\n",
      "Epoch 3/20\n",
      "600/600 [==============================] - 19s 32ms/step - loss: 0.7067 - acc: 0.7114 - val_loss: 0.5990 - val_acc: 0.7550\n",
      "Epoch 4/20\n",
      "600/600 [==============================] - 21s 34ms/step - loss: 0.6941 - acc: 0.7157 - val_loss: 0.5580 - val_acc: 0.7937\n",
      "Epoch 5/20\n",
      "600/600 [==============================] - 20s 34ms/step - loss: 0.6696 - acc: 0.7314 - val_loss: 0.7692 - val_acc: 0.7075\n",
      "Epoch 6/20\n",
      "600/600 [==============================] - 21s 35ms/step - loss: 0.6441 - acc: 0.7439 - val_loss: 0.4781 - val_acc: 0.8044\n",
      "Epoch 7/20\n",
      "600/600 [==============================] - 20s 33ms/step - loss: 0.6322 - acc: 0.7471 - val_loss: 0.4934 - val_acc: 0.7994\n",
      "Epoch 8/20\n",
      "600/600 [==============================] - 24s 39ms/step - loss: 0.6163 - acc: 0.7590 - val_loss: 0.5038 - val_acc: 0.8075\n",
      "Epoch 9/20\n",
      "600/600 [==============================] - 23s 38ms/step - loss: 0.6018 - acc: 0.7690 - val_loss: 0.5324 - val_acc: 0.7994\n",
      "Epoch 10/20\n",
      "600/600 [==============================] - 19s 31ms/step - loss: 0.5782 - acc: 0.7743 - val_loss: 0.5185 - val_acc: 0.8169\n",
      "Epoch 11/20\n",
      "600/600 [==============================] - 20s 34ms/step - loss: 0.5883 - acc: 0.7714 - val_loss: 0.4620 - val_acc: 0.8156\n",
      "Epoch 12/20\n",
      "600/600 [==============================] - 21s 35ms/step - loss: 0.5733 - acc: 0.7806 - val_loss: 0.4420 - val_acc: 0.8331\n",
      "Epoch 13/20\n",
      "600/600 [==============================] - 23s 39ms/step - loss: 0.5614 - acc: 0.7785 - val_loss: 0.4311 - val_acc: 0.8325\n",
      "Epoch 14/20\n",
      "600/600 [==============================] - 21s 35ms/step - loss: 0.5558 - acc: 0.7818 - val_loss: 0.4431 - val_acc: 0.8394\n",
      "Epoch 15/20\n",
      "600/600 [==============================] - 21s 35ms/step - loss: 0.5405 - acc: 0.7893 - val_loss: 0.4368 - val_acc: 0.8369\n",
      "Epoch 16/20\n",
      "600/600 [==============================] - 25s 41ms/step - loss: 0.5379 - acc: 0.7905 - val_loss: 0.4712 - val_acc: 0.8225\n",
      "Epoch 17/20\n",
      "600/600 [==============================] - 24s 41ms/step - loss: 0.5334 - acc: 0.7975 - val_loss: 0.4516 - val_acc: 0.8363\n",
      "\n",
      "Epoch 00017: ReduceLROnPlateau reducing learning rate to 0.0005000000237487257.\n",
      "Epoch 18/20\n",
      "600/600 [==============================] - 22s 37ms/step - loss: 0.5131 - acc: 0.8008 - val_loss: 0.3806 - val_acc: 0.8575\n",
      "Epoch 19/20\n",
      "600/600 [==============================] - 22s 37ms/step - loss: 0.4785 - acc: 0.8158 - val_loss: 0.4339 - val_acc: 0.8400\n",
      "Epoch 20/20\n",
      "600/600 [==============================] - 20s 33ms/step - loss: 0.4779 - acc: 0.8130 - val_loss: 0.3926 - val_acc: 0.8544\n"
     ]
    }
   ],
   "source": [
    "hist = model.fit_generator(datagen.flow(XTraining, YTraining, batch_size=16),\n",
    "                            steps_per_epoch=600,\n",
    "                           epochs=20,\n",
    "                           verbose=1,\n",
    "                           validation_data=(XValidation, YValidation), \n",
    "                           callbacks=[learning_rate_reduction])"
   ]
  },
  {
   "cell_type": "code",
   "execution_count": 51,
   "metadata": {
    "scrolled": false
   },
   "outputs": [
    {
     "name": "stdout",
     "output_type": "stream",
     "text": [
      "Epoch 1/40\n",
      "600/600 [==============================] - 19s 32ms/step - loss: 0.4740 - acc: 0.8154 - val_loss: 0.4088 - val_acc: 0.8500\n",
      "Epoch 2/40\n",
      "600/600 [==============================] - 14s 24ms/step - loss: 0.4765 - acc: 0.8213 - val_loss: 0.3992 - val_acc: 0.8525\n",
      "Epoch 3/40\n",
      "600/600 [==============================] - 15s 24ms/step - loss: 0.4685 - acc: 0.8198 - val_loss: 0.4085 - val_acc: 0.8456\n",
      "Epoch 4/40\n",
      "600/600 [==============================] - 19s 32ms/step - loss: 0.4661 - acc: 0.8175 - val_loss: 0.3860 - val_acc: 0.8588\n",
      "Epoch 5/40\n",
      "600/600 [==============================] - 14s 23ms/step - loss: 0.4567 - acc: 0.8235 - val_loss: 0.3872 - val_acc: 0.8588\n",
      "Epoch 6/40\n",
      "600/600 [==============================] - 15s 25ms/step - loss: 0.4719 - acc: 0.8148 - val_loss: 0.3928 - val_acc: 0.8519\n",
      "Epoch 7/40\n",
      "600/600 [==============================] - 17s 29ms/step - loss: 0.4577 - acc: 0.8237 - val_loss: 0.3936 - val_acc: 0.8531\n",
      "\n",
      "Epoch 00007: ReduceLROnPlateau reducing learning rate to 4.999999873689376e-05.\n",
      "Epoch 8/40\n",
      "600/600 [==============================] - 15s 26ms/step - loss: 0.4584 - acc: 0.8242 - val_loss: 0.3879 - val_acc: 0.8569\n",
      "Epoch 9/40\n",
      "600/600 [==============================] - 21s 35ms/step - loss: 0.4567 - acc: 0.8273 - val_loss: 0.3968 - val_acc: 0.8506\n",
      "Epoch 10/40\n",
      "600/600 [==============================] - 18s 31ms/step - loss: 0.4378 - acc: 0.8292 - val_loss: 0.3968 - val_acc: 0.8488\n",
      "\n",
      "Epoch 00010: ReduceLROnPlateau reducing learning rate to 2.499999936844688e-05.\n",
      "Epoch 11/40\n",
      "600/600 [==============================] - 17s 28ms/step - loss: 0.4663 - acc: 0.8244 - val_loss: 0.3886 - val_acc: 0.8538\n",
      "Epoch 12/40\n",
      "600/600 [==============================] - 16s 27ms/step - loss: 0.4425 - acc: 0.8248 - val_loss: 0.3962 - val_acc: 0.8494\n",
      "Epoch 13/40\n",
      "600/600 [==============================] - 15s 24ms/step - loss: 0.4638 - acc: 0.8210 - val_loss: 0.3906 - val_acc: 0.8544\n",
      "\n",
      "Epoch 00013: ReduceLROnPlateau reducing learning rate to 1.249999968422344e-05.\n",
      "Epoch 14/40\n",
      "600/600 [==============================] - 18s 31ms/step - loss: 0.4369 - acc: 0.8327 - val_loss: 0.3904 - val_acc: 0.8525\n",
      "Epoch 15/40\n",
      "600/600 [==============================] - 15s 25ms/step - loss: 0.4593 - acc: 0.8219 - val_loss: 0.3938 - val_acc: 0.8506\n",
      "Epoch 16/40\n",
      "600/600 [==============================] - 15s 24ms/step - loss: 0.4488 - acc: 0.8281 - val_loss: 0.3917 - val_acc: 0.8525\n",
      "\n",
      "Epoch 00016: ReduceLROnPlateau reducing learning rate to 1e-05.\n",
      "Epoch 17/40\n",
      "600/600 [==============================] - 14s 24ms/step - loss: 0.4422 - acc: 0.8240 - val_loss: 0.3938 - val_acc: 0.8512\n",
      "Epoch 18/40\n",
      "600/600 [==============================] - 15s 25ms/step - loss: 0.4460 - acc: 0.8192 - val_loss: 0.3952 - val_acc: 0.8519\n",
      "Epoch 19/40\n",
      "600/600 [==============================] - 15s 25ms/step - loss: 0.4420 - acc: 0.8248 - val_loss: 0.3980 - val_acc: 0.8488\n",
      "Epoch 20/40\n",
      "600/600 [==============================] - 14s 23ms/step - loss: 0.4496 - acc: 0.8271 - val_loss: 0.3944 - val_acc: 0.8506\n",
      "Epoch 21/40\n",
      "600/600 [==============================] - 16s 27ms/step - loss: 0.4494 - acc: 0.8185 - val_loss: 0.3957 - val_acc: 0.8525\n",
      "Epoch 22/40\n",
      "600/600 [==============================] - 14s 23ms/step - loss: 0.4441 - acc: 0.8235 - val_loss: 0.3962 - val_acc: 0.8512\n",
      "Epoch 23/40\n",
      "600/600 [==============================] - 15s 25ms/step - loss: 0.4472 - acc: 0.8283 - val_loss: 0.3902 - val_acc: 0.8519\n",
      "Epoch 24/40\n",
      "600/600 [==============================] - 17s 28ms/step - loss: 0.4483 - acc: 0.8263 - val_loss: 0.3979 - val_acc: 0.8475\n",
      "Epoch 25/40\n",
      "600/600 [==============================] - 13s 22ms/step - loss: 0.4504 - acc: 0.8283 - val_loss: 0.3957 - val_acc: 0.8494\n",
      "Epoch 26/40\n",
      "600/600 [==============================] - 15s 25ms/step - loss: 0.4622 - acc: 0.8188 - val_loss: 0.3939 - val_acc: 0.8512\n",
      "Epoch 27/40\n",
      "600/600 [==============================] - 14s 23ms/step - loss: 0.4360 - acc: 0.8290 - val_loss: 0.3986 - val_acc: 0.8488\n",
      "Epoch 28/40\n",
      "600/600 [==============================] - 14s 23ms/step - loss: 0.4347 - acc: 0.8325 - val_loss: 0.3946 - val_acc: 0.8500\n",
      "Epoch 29/40\n",
      "600/600 [==============================] - 18s 30ms/step - loss: 0.4433 - acc: 0.8335 - val_loss: 0.3935 - val_acc: 0.8494\n",
      "Epoch 30/40\n",
      "600/600 [==============================] - 16s 27ms/step - loss: 0.4602 - acc: 0.8271 - val_loss: 0.3928 - val_acc: 0.8488\n",
      "Epoch 31/40\n",
      "600/600 [==============================] - 20s 33ms/step - loss: 0.4401 - acc: 0.8333 - val_loss: 0.3924 - val_acc: 0.8506\n",
      "Epoch 32/40\n",
      "600/600 [==============================] - 19s 31ms/step - loss: 0.4478 - acc: 0.8290 - val_loss: 0.3983 - val_acc: 0.8481\n",
      "Epoch 33/40\n",
      "600/600 [==============================] - 16s 26ms/step - loss: 0.4305 - acc: 0.8350 - val_loss: 0.3974 - val_acc: 0.8481\n",
      "Epoch 34/40\n",
      "600/600 [==============================] - 13s 22ms/step - loss: 0.4572 - acc: 0.8229 - val_loss: 0.3951 - val_acc: 0.8488\n",
      "Epoch 35/40\n",
      "600/600 [==============================] - 19s 32ms/step - loss: 0.4303 - acc: 0.8329 - val_loss: 0.3957 - val_acc: 0.8488\n",
      "Epoch 36/40\n",
      "600/600 [==============================] - 20s 34ms/step - loss: 0.4518 - acc: 0.8275 - val_loss: 0.3935 - val_acc: 0.8506\n",
      "Epoch 37/40\n",
      "600/600 [==============================] - 15s 25ms/step - loss: 0.4433 - acc: 0.8225 - val_loss: 0.3968 - val_acc: 0.8475\n",
      "Epoch 38/40\n",
      "600/600 [==============================] - 19s 31ms/step - loss: 0.4329 - acc: 0.8325 - val_loss: 0.3956 - val_acc: 0.8481\n",
      "Epoch 39/40\n",
      "600/600 [==============================] - 18s 29ms/step - loss: 0.4465 - acc: 0.8258 - val_loss: 0.3990 - val_acc: 0.8488\n",
      "Epoch 40/40\n",
      "600/600 [==============================] - 15s 25ms/step - loss: 0.4400 - acc: 0.8267 - val_loss: 0.3950 - val_acc: 0.8500\n"
     ]
    }
   ],
   "source": [
    "model.compile(loss='categorical_crossentropy', optimizer = Adam(lr=1e-4), metrics=[\"accuracy\"]) # adam as optimiser, crossentropy log loss function\n",
    "\n",
    "hist = model.fit_generator(datagen.flow(XTraining, YTraining, batch_size=8),\n",
    "                            steps_per_epoch=600,\n",
    "                           epochs=40,\n",
    "                           verbose=1,\n",
    "                           validation_data=(XValidation, YValidation), \n",
    "                           callbacks=[learning_rate_reduction])"
   ]
  },
  {
   "cell_type": "markdown",
   "metadata": {},
   "source": [
    "As now the learning rate is reduced to 1e-5, because of encountering plateaus again and again, it can be concluded that the model has more or less converged to the optimum. Now we will try to see what classes are most confused."
   ]
  },
  {
   "cell_type": "code",
   "execution_count": 54,
   "metadata": {},
   "outputs": [
    {
     "name": "stdout",
     "output_type": "stream",
     "text": [
      "Final loss: 0.3950, final accuracy: 0.8500\n"
     ]
    }
   ],
   "source": [
    "final_loss, final_acc = model.evaluate(XValidation, YValidation, verbose=0)\n",
    "print(\"Final loss: {0:.4f}, final accuracy: {1:.4f}\".format(final_loss, final_acc))"
   ]
  },
  {
   "cell_type": "code",
   "execution_count": 55,
   "metadata": {},
   "outputs": [
    {
     "data": {
      "image/png": "[encoded data removed]",
      "text/plain": [
       "<Figure size 432x288 with 1 Axes>"
      ]
     },
     "metadata": {
      "needs_background": "light"
     },
     "output_type": "display_data"
    },
    {
     "data": {
      "image/png": "[encoded data removed]",
      "text/plain": [
       "<Figure size 432x288 with 1 Axes>"
      ]
     },
     "metadata": {
      "needs_background": "light"
     },
     "output_type": "display_data"
    }
   ],
   "source": [
    "plt.plot(hist.history['loss'], color='b')\n",
    "plt.plot(hist.history['val_loss'], color='r')\n",
    "plt.show()\n",
    "plt.plot(hist.history['acc'], color='b')\n",
    "plt.plot(hist.history['val_acc'], color='r')\n",
    "plt.show()"
   ]
  },
  {
   "cell_type": "code",
   "execution_count": 76,
   "metadata": {},
   "outputs": [
    {
     "data": {
      "text/plain": [
       "(1600,)"
      ]
     },
     "execution_count": 76,
     "metadata": {},
     "output_type": "execute_result"
    }
   ],
   "source": [
    "y_hat = model.predict(XValidation)\n",
    "y_pred = np.argmax(y_hat, axis=1)\n",
    "y_true = np.argmax(YValidation, axis=1)\n",
    "y_true.shape"
   ]
  },
  {
   "cell_type": "code",
   "execution_count": 77,
   "metadata": {},
   "outputs": [
    {
     "name": "stdout",
     "output_type": "stream",
     "text": [
      "[[314   8  15  63]\n",
      " [  2 343   2  53]\n",
      " [  4   2 377  17]\n",
      " [ 17  20  14 349]]\n"
     ]
    }
   ],
   "source": [
    "cm = confusion_matrix(y_true, y_pred)\n",
    "print(cm)"
   ]
  },
  {
   "cell_type": "markdown",
   "metadata": {},
   "source": [
    "Here, it can be clearly seen how all the classes are confused with class 3, i.e. class 6 of shirts.\n",
    "\n",
    "Initially, when I was analysing the class distribution and visualising data, thus very fact was observed that the class 6 can be confused with other classes. Intuitively, given that the input images didn't have a resolution that buttons and features like shirt pockets can be recognised, it is very likely that shirt can be confused with a tshirt or pullover, which seems to be the case here.\n",
    "If we disregard class 6 of shirts, we get an accuracy of 92.48% using accuracy=(TP/(TP+FP)),\n",
    "which falls to about 86% when we consider class 6\n"
   ]
  },
  {
   "cell_type": "code",
   "execution_count": null,
   "metadata": {},
   "outputs": [],
   "source": []
  }
 ],
 "metadata": {
  "kernelspec": {
   "display_name": "Python 3",
   "language": "python",
   "name": "python3"
  },
  "language_info": {
   "codemirror_mode": {
    "name": "ipython",
    "version": 3
   },
   "file_extension": ".py",
   "mimetype": "text/x-python",
   "name": "python",
   "nbconvert_exporter": "python",
   "pygments_lexer": "ipython3",
   "version": "3.6.7"
  }
 },
 "nbformat": 4,
 "nbformat_minor": 2
}
